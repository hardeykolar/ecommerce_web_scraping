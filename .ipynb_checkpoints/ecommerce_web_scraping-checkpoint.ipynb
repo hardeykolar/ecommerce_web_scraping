{
 "cells": [
  {
   "cell_type": "code",
   "execution_count": 151,
   "id": "98575d38",
   "metadata": {
    "executionInfo": {
     "elapsed": 691,
     "status": "ok",
     "timestamp": 1689513921761,
     "user": {
      "displayName": "ajadi adekola",
      "userId": "04804752499898333314"
     },
     "user_tz": -60
    },
    "id": "98575d38"
   },
   "outputs": [],
   "source": [
    "import undetected_chromedriver as uc\n",
    "import urllib.request\n",
    "\n",
    "from selenium import webdriver\n",
    "from selenium.webdriver.chrome.options import Options\n",
    "from selenium.webdriver.chrome.service import Service\n",
    "#from webdriver_manager.chrome import ChromeDriverManager\n",
    "from selenium.webdriver.common.by import By\n",
    "from selenium.webdriver.support.ui import Select\n",
    "#import webdriver_manager\n",
    "\n",
    "\n",
    "from selenium.webdriver.support.wait import WebDriverWait\n",
    "from selenium.webdriver.support import expected_conditions as EC\n",
    "\n",
    "\n",
    "\n",
    "from selenium.webdriver.common.alert import Alert\n",
    "from selenium.webdriver.common.keys import Keys\n",
    "from selenium.webdriver.common.action_chains import ActionChains\n",
    "from selenium.common.exceptions import *\n",
    "\n",
    "\n",
    "import time\n",
    "import re\n",
    "import pandas as pd\n",
    "import os\n",
    "import random\n",
    "import datetime\n",
    "import json"
   ]
  },
  {
   "cell_type": "code",
   "execution_count": 152,
   "id": "582a43b6",
   "metadata": {
    "colab": {
     "base_uri": "https://localhost:8080/",
     "height": 329
    },
    "executionInfo": {
     "elapsed": 730,
     "status": "error",
     "timestamp": 1689513958151,
     "user": {
      "displayName": "ajadi adekola",
      "userId": "04804752499898333314"
     },
     "user_tz": -60
    },
    "id": "582a43b6",
    "outputId": "7f6ca61b-febb-4941-d2b2-05c61e7582e8"
   },
   "outputs": [],
   "source": [
    "browser = uc.Chrome()\n",
    "browser.get('https://shop.mohd.it/en/brands.html')"
   ]
  },
  {
   "cell_type": "code",
   "execution_count": 153,
   "id": "a3e290cb",
   "metadata": {
    "id": "a3e290cb"
   },
   "outputs": [],
   "source": [
    "try:\n",
    "    browser.maximize_window()\n",
    "except:\n",
    "    pass"
   ]
  },
  {
   "cell_type": "code",
   "execution_count": 154,
   "id": "6909c6fa",
   "metadata": {},
   "outputs": [],
   "source": [
    "try:\n",
    "    browser.find_element(By.XPATH,\"//button[text()='Accept Cookies']\").click()\n",
    "except:\n",
    "    click()"
   ]
  },
  {
   "cell_type": "code",
   "execution_count": 98,
   "id": "c0e5e76c",
   "metadata": {
    "id": "c0e5e76c",
    "outputId": "c130b9b2-368d-42e9-8db4-9170aa58620e"
   },
   "outputs": [],
   "source": [
    "data = pd.read_excel(\"PC - Supplier Brand Analysis - STAGE 1 - MAIN EXTRACTION.xlsx\")\n"
   ]
  },
  {
   "cell_type": "code",
   "execution_count": 99,
   "id": "a8fc6e47",
   "metadata": {},
   "outputs": [
    {
     "data": {
      "text/html": [
       "<div>\n",
       "<style scoped>\n",
       "    .dataframe tbody tr th:only-of-type {\n",
       "        vertical-align: middle;\n",
       "    }\n",
       "\n",
       "    .dataframe tbody tr th {\n",
       "        vertical-align: top;\n",
       "    }\n",
       "\n",
       "    .dataframe thead th {\n",
       "        text-align: right;\n",
       "    }\n",
       "</style>\n",
       "<table border=\"1\" class=\"dataframe\">\n",
       "  <thead>\n",
       "    <tr style=\"text-align: right;\">\n",
       "      <th></th>\n",
       "      <th>Unnamed: 0</th>\n",
       "      <th>WEBSITE 1</th>\n",
       "      <th>WEBSITE 2</th>\n",
       "      <th>WEBSITE 3</th>\n",
       "      <th>WEBSITE 4</th>\n",
       "      <th>WEBSITE 5</th>\n",
       "      <th>WEBSITE 6</th>\n",
       "    </tr>\n",
       "  </thead>\n",
       "  <tbody>\n",
       "    <tr>\n",
       "      <th>0</th>\n",
       "      <td>STORE NAME</td>\n",
       "      <td>MOHD</td>\n",
       "      <td>LIVING EDGE</td>\n",
       "      <td>SPACE</td>\n",
       "      <td>MAKE DESIGN OBJECTS</td>\n",
       "      <td>STYLECRAFT</td>\n",
       "      <td>MOBILIA</td>\n",
       "    </tr>\n",
       "    <tr>\n",
       "      <th>1</th>\n",
       "      <td>SITE URL</td>\n",
       "      <td>https://shop.mohd.it/en/brands.html</td>\n",
       "      <td>https://livingedge.com.au/brands/</td>\n",
       "      <td>https://www.spacefurniture.com.au/</td>\n",
       "      <td>https://www.makedesignedobjects.com/#</td>\n",
       "      <td>https://stylecraft.com.au/brands</td>\n",
       "      <td>https://www.mobilia.com.au/residential/brands</td>\n",
       "    </tr>\n",
       "    <tr>\n",
       "      <th>2</th>\n",
       "      <td>NaN</td>\n",
       "      <td>NaN</td>\n",
       "      <td>NaN</td>\n",
       "      <td>NaN</td>\n",
       "      <td>NaN</td>\n",
       "      <td>NaN</td>\n",
       "      <td>NaN</td>\n",
       "    </tr>\n",
       "    <tr>\n",
       "      <th>3</th>\n",
       "      <td>BRAND</td>\n",
       "      <td>Acerbis</td>\n",
       "      <td>BD Barcelona Design</td>\n",
       "      <td>Acerbis</td>\n",
       "      <td>Alessi</td>\n",
       "      <td>Arper</td>\n",
       "      <td>Astep</td>\n",
       "    </tr>\n",
       "    <tr>\n",
       "      <th>4</th>\n",
       "      <td>BRAND</td>\n",
       "      <td>Agape</td>\n",
       "      <td>Brionvega</td>\n",
       "      <td>Arflex</td>\n",
       "      <td>Braun</td>\n",
       "      <td>Artemide</td>\n",
       "      <td>Atelier Areti</td>\n",
       "    </tr>\n",
       "    <tr>\n",
       "      <th>5</th>\n",
       "      <td>BRAND</td>\n",
       "      <td>Agapecasa</td>\n",
       "      <td>Buster + Punch</td>\n",
       "      <td>B&amp;B Italia</td>\n",
       "      <td>Bugatti</td>\n",
       "      <td>Maiori</td>\n",
       "      <td>BD Barcelona</td>\n",
       "    </tr>\n",
       "    <tr>\n",
       "      <th>6</th>\n",
       "      <td>BRAND</td>\n",
       "      <td>Alessi</td>\n",
       "      <td>e15</td>\n",
       "      <td>Baxter</td>\n",
       "      <td>Eva Solo</td>\n",
       "      <td>Prostoria</td>\n",
       "      <td>Cassina</td>\n",
       "    </tr>\n",
       "    <tr>\n",
       "      <th>7</th>\n",
       "      <td>BRAND</td>\n",
       "      <td>Alessi x Campari Soda</td>\n",
       "      <td>Elite, To Be</td>\n",
       "      <td>Bocci</td>\n",
       "      <td>Ferm Living</td>\n",
       "      <td>Ritzwell</td>\n",
       "      <td>CC-tapis</td>\n",
       "    </tr>\n",
       "    <tr>\n",
       "      <th>8</th>\n",
       "      <td>BRAND</td>\n",
       "      <td>Arflex</td>\n",
       "      <td>Established &amp; Sons</td>\n",
       "      <td>Bosa</td>\n",
       "      <td>Iittala</td>\n",
       "      <td>STUA</td>\n",
       "      <td>Glas Italia</td>\n",
       "    </tr>\n",
       "    <tr>\n",
       "      <th>9</th>\n",
       "      <td>BRAND</td>\n",
       "      <td>Arper</td>\n",
       "      <td>Extremis</td>\n",
       "      <td>Edra</td>\n",
       "      <td>Izipizi</td>\n",
       "      <td>Tacchini</td>\n",
       "      <td>Golran</td>\n",
       "    </tr>\n",
       "    <tr>\n",
       "      <th>10</th>\n",
       "      <td>BRAND</td>\n",
       "      <td>Artemide</td>\n",
       "      <td>Flos</td>\n",
       "      <td>Foscarini</td>\n",
       "      <td>Karlsson</td>\n",
       "      <td>NaN</td>\n",
       "      <td>Kettal</td>\n",
       "    </tr>\n",
       "    <tr>\n",
       "      <th>11</th>\n",
       "      <td>BRAND</td>\n",
       "      <td>Astep</td>\n",
       "      <td>Gufram</td>\n",
       "      <td>Gebrüder Thonet Vienna GmbH</td>\n",
       "      <td>Lexon</td>\n",
       "      <td>NaN</td>\n",
       "      <td>Marset</td>\n",
       "    </tr>\n",
       "    <tr>\n",
       "      <th>12</th>\n",
       "      <td>BRAND</td>\n",
       "      <td>Atelier Areti</td>\n",
       "      <td>La Chance</td>\n",
       "      <td>Giorgetti</td>\n",
       "      <td>Missoni</td>\n",
       "      <td>NaN</td>\n",
       "      <td>Michael Anastassiades</td>\n",
       "    </tr>\n",
       "    <tr>\n",
       "      <th>13</th>\n",
       "      <td>BRAND</td>\n",
       "      <td>B&amp;B Italia</td>\n",
       "      <td>Lambert &amp; Fils</td>\n",
       "      <td>Glas Italia</td>\n",
       "      <td>Normann Copenhagen</td>\n",
       "      <td>NaN</td>\n",
       "      <td>Moroso</td>\n",
       "    </tr>\n",
       "    <tr>\n",
       "      <th>14</th>\n",
       "      <td>BRAND</td>\n",
       "      <td>Baxter</td>\n",
       "      <td>Lasvit</td>\n",
       "      <td>Ingo Maurer</td>\n",
       "      <td>Stelton</td>\n",
       "      <td>NaN</td>\n",
       "      <td>Nomon Clocks &amp; Home</td>\n",
       "    </tr>\n",
       "    <tr>\n",
       "      <th>15</th>\n",
       "      <td>BRAND</td>\n",
       "      <td>BD Barcelona Design</td>\n",
       "      <td>Memphis Milano</td>\n",
       "      <td>Kartell</td>\n",
       "      <td>NaN</td>\n",
       "      <td>NaN</td>\n",
       "      <td>Poltrona Frau</td>\n",
       "    </tr>\n",
       "    <tr>\n",
       "      <th>16</th>\n",
       "      <td>BRAND</td>\n",
       "      <td>Bocci</td>\n",
       "      <td>Muuto</td>\n",
       "      <td>Lee Broom</td>\n",
       "      <td>NaN</td>\n",
       "      <td>NaN</td>\n",
       "      <td>Punt</td>\n",
       "    </tr>\n",
       "    <tr>\n",
       "      <th>17</th>\n",
       "      <td>BRAND</td>\n",
       "      <td>Bosa</td>\n",
       "      <td>Oluce</td>\n",
       "      <td>Living Divani</td>\n",
       "      <td>NaN</td>\n",
       "      <td>NaN</td>\n",
       "      <td>Triconfort</td>\n",
       "    </tr>\n",
       "    <tr>\n",
       "      <th>18</th>\n",
       "      <td>BRAND</td>\n",
       "      <td>Braun</td>\n",
       "      <td>PER/USE</td>\n",
       "      <td>Maxalto</td>\n",
       "      <td>NaN</td>\n",
       "      <td>NaN</td>\n",
       "      <td>Vondom</td>\n",
       "    </tr>\n",
       "    <tr>\n",
       "      <th>19</th>\n",
       "      <td>BRAND</td>\n",
       "      <td>Brionvega</td>\n",
       "      <td>Tom Dixon</td>\n",
       "      <td>Moooi</td>\n",
       "      <td>NaN</td>\n",
       "      <td>NaN</td>\n",
       "      <td>NaN</td>\n",
       "    </tr>\n",
       "    <tr>\n",
       "      <th>20</th>\n",
       "      <td>BRAND</td>\n",
       "      <td>Bugatti Home</td>\n",
       "      <td>Vitra</td>\n",
       "      <td>Moooi Carpets</td>\n",
       "      <td>NaN</td>\n",
       "      <td>NaN</td>\n",
       "      <td>NaN</td>\n",
       "    </tr>\n",
       "    <tr>\n",
       "      <th>21</th>\n",
       "      <td>BRAND</td>\n",
       "      <td>Buster + Punch</td>\n",
       "      <td>NaN</td>\n",
       "      <td>Opinion Ciatti</td>\n",
       "      <td>NaN</td>\n",
       "      <td>NaN</td>\n",
       "      <td>NaN</td>\n",
       "    </tr>\n",
       "    <tr>\n",
       "      <th>22</th>\n",
       "      <td>BRAND</td>\n",
       "      <td>Cassina</td>\n",
       "      <td>NaN</td>\n",
       "      <td>Porro</td>\n",
       "      <td>NaN</td>\n",
       "      <td>NaN</td>\n",
       "      <td>NaN</td>\n",
       "    </tr>\n",
       "    <tr>\n",
       "      <th>23</th>\n",
       "      <td>BRAND</td>\n",
       "      <td>cc-tapis</td>\n",
       "      <td>NaN</td>\n",
       "      <td>Rometti</td>\n",
       "      <td>NaN</td>\n",
       "      <td>NaN</td>\n",
       "      <td>NaN</td>\n",
       "    </tr>\n",
       "    <tr>\n",
       "      <th>24</th>\n",
       "      <td>BRAND</td>\n",
       "      <td>Diesel with Moroso</td>\n",
       "      <td>NaN</td>\n",
       "      <td>Serralunga</td>\n",
       "      <td>NaN</td>\n",
       "      <td>NaN</td>\n",
       "      <td>NaN</td>\n",
       "    </tr>\n",
       "    <tr>\n",
       "      <th>25</th>\n",
       "      <td>BRAND</td>\n",
       "      <td>E15</td>\n",
       "      <td>NaN</td>\n",
       "      <td>SP01</td>\n",
       "      <td>NaN</td>\n",
       "      <td>NaN</td>\n",
       "      <td>NaN</td>\n",
       "    </tr>\n",
       "    <tr>\n",
       "      <th>26</th>\n",
       "      <td>BRAND</td>\n",
       "      <td>Eclectic by Tom Dixon</td>\n",
       "      <td>NaN</td>\n",
       "      <td>Vitra</td>\n",
       "      <td>NaN</td>\n",
       "      <td>NaN</td>\n",
       "      <td>NaN</td>\n",
       "    </tr>\n",
       "    <tr>\n",
       "      <th>27</th>\n",
       "      <td>BRAND</td>\n",
       "      <td>Edra</td>\n",
       "      <td>NaN</td>\n",
       "      <td>NaN</td>\n",
       "      <td>NaN</td>\n",
       "      <td>NaN</td>\n",
       "      <td>NaN</td>\n",
       "    </tr>\n",
       "    <tr>\n",
       "      <th>28</th>\n",
       "      <td>BRAND</td>\n",
       "      <td>Elite</td>\n",
       "      <td>NaN</td>\n",
       "      <td>NaN</td>\n",
       "      <td>NaN</td>\n",
       "      <td>NaN</td>\n",
       "      <td>NaN</td>\n",
       "    </tr>\n",
       "    <tr>\n",
       "      <th>29</th>\n",
       "      <td>BRAND</td>\n",
       "      <td>Established &amp; Sons</td>\n",
       "      <td>NaN</td>\n",
       "      <td>NaN</td>\n",
       "      <td>NaN</td>\n",
       "      <td>NaN</td>\n",
       "      <td>NaN</td>\n",
       "    </tr>\n",
       "  </tbody>\n",
       "</table>\n",
       "</div>"
      ],
      "text/plain": [
       "    Unnamed: 0                            WEBSITE 1  \\\n",
       "0   STORE NAME                                 MOHD   \n",
       "1     SITE URL  https://shop.mohd.it/en/brands.html   \n",
       "2          NaN                                  NaN   \n",
       "3        BRAND                              Acerbis   \n",
       "4        BRAND                                Agape   \n",
       "5        BRAND                            Agapecasa   \n",
       "6        BRAND                               Alessi   \n",
       "7        BRAND                Alessi x Campari Soda   \n",
       "8        BRAND                               Arflex   \n",
       "9        BRAND                                Arper   \n",
       "10       BRAND                             Artemide   \n",
       "11       BRAND                                Astep   \n",
       "12       BRAND                        Atelier Areti   \n",
       "13       BRAND                           B&B Italia   \n",
       "14       BRAND                               Baxter   \n",
       "15       BRAND                  BD Barcelona Design   \n",
       "16       BRAND                                Bocci   \n",
       "17       BRAND                                 Bosa   \n",
       "18       BRAND                                Braun   \n",
       "19       BRAND                            Brionvega   \n",
       "20       BRAND                         Bugatti Home   \n",
       "21       BRAND                       Buster + Punch   \n",
       "22       BRAND                              Cassina   \n",
       "23       BRAND                             cc-tapis   \n",
       "24       BRAND                   Diesel with Moroso   \n",
       "25       BRAND                                  E15   \n",
       "26       BRAND                Eclectic by Tom Dixon   \n",
       "27       BRAND                                 Edra   \n",
       "28       BRAND                                Elite   \n",
       "29       BRAND                   Established & Sons   \n",
       "\n",
       "                            WEBSITE 2                           WEBSITE 3  \\\n",
       "0                         LIVING EDGE                               SPACE   \n",
       "1   https://livingedge.com.au/brands/  https://www.spacefurniture.com.au/   \n",
       "2                                 NaN                                 NaN   \n",
       "3                 BD Barcelona Design                             Acerbis   \n",
       "4                           Brionvega                             Arflex    \n",
       "5                      Buster + Punch                          B&B Italia   \n",
       "6                                 e15                             Baxter    \n",
       "7                        Elite, To Be                               Bocci   \n",
       "8                  Established & Sons                                Bosa   \n",
       "9                            Extremis                                Edra   \n",
       "10                               Flos                           Foscarini   \n",
       "11                             Gufram         Gebrüder Thonet Vienna GmbH   \n",
       "12                          La Chance                           Giorgetti   \n",
       "13                     Lambert & Fils                         Glas Italia   \n",
       "14                             Lasvit                         Ingo Maurer   \n",
       "15                     Memphis Milano                             Kartell   \n",
       "16                              Muuto                           Lee Broom   \n",
       "17                              Oluce                       Living Divani   \n",
       "18                            PER/USE                             Maxalto   \n",
       "19                          Tom Dixon                               Moooi   \n",
       "20                              Vitra                       Moooi Carpets   \n",
       "21                                NaN                      Opinion Ciatti   \n",
       "22                                NaN                               Porro   \n",
       "23                                NaN                             Rometti   \n",
       "24                                NaN                          Serralunga   \n",
       "25                                NaN                                SP01   \n",
       "26                                NaN                               Vitra   \n",
       "27                                NaN                                 NaN   \n",
       "28                                NaN                                 NaN   \n",
       "29                                NaN                                 NaN   \n",
       "\n",
       "                                WEBSITE 4                         WEBSITE 5  \\\n",
       "0                     MAKE DESIGN OBJECTS                        STYLECRAFT   \n",
       "1   https://www.makedesignedobjects.com/#  https://stylecraft.com.au/brands   \n",
       "2                                     NaN                               NaN   \n",
       "3                                  Alessi                             Arper   \n",
       "4                                   Braun                          Artemide   \n",
       "5                                 Bugatti                            Maiori   \n",
       "6                                Eva Solo                         Prostoria   \n",
       "7                             Ferm Living                          Ritzwell   \n",
       "8                                 Iittala                              STUA   \n",
       "9                                 Izipizi                          Tacchini   \n",
       "10                               Karlsson                               NaN   \n",
       "11                                  Lexon                               NaN   \n",
       "12                                Missoni                               NaN   \n",
       "13                     Normann Copenhagen                               NaN   \n",
       "14                                Stelton                               NaN   \n",
       "15                                    NaN                               NaN   \n",
       "16                                    NaN                               NaN   \n",
       "17                                    NaN                               NaN   \n",
       "18                                    NaN                               NaN   \n",
       "19                                    NaN                               NaN   \n",
       "20                                    NaN                               NaN   \n",
       "21                                    NaN                               NaN   \n",
       "22                                    NaN                               NaN   \n",
       "23                                    NaN                               NaN   \n",
       "24                                    NaN                               NaN   \n",
       "25                                    NaN                               NaN   \n",
       "26                                    NaN                               NaN   \n",
       "27                                    NaN                               NaN   \n",
       "28                                    NaN                               NaN   \n",
       "29                                    NaN                               NaN   \n",
       "\n",
       "                                        WEBSITE 6  \n",
       "0                                         MOBILIA  \n",
       "1   https://www.mobilia.com.au/residential/brands  \n",
       "2                                             NaN  \n",
       "3                                           Astep  \n",
       "4                                   Atelier Areti  \n",
       "5                                    BD Barcelona  \n",
       "6                                         Cassina  \n",
       "7                                        CC-tapis  \n",
       "8                                     Glas Italia  \n",
       "9                                          Golran  \n",
       "10                                         Kettal  \n",
       "11                                         Marset  \n",
       "12                          Michael Anastassiades  \n",
       "13                                         Moroso  \n",
       "14                            Nomon Clocks & Home  \n",
       "15                                  Poltrona Frau  \n",
       "16                                           Punt  \n",
       "17                                     Triconfort  \n",
       "18                                         Vondom  \n",
       "19                                            NaN  \n",
       "20                                            NaN  \n",
       "21                                            NaN  \n",
       "22                                            NaN  \n",
       "23                                            NaN  \n",
       "24                                            NaN  \n",
       "25                                            NaN  \n",
       "26                                            NaN  \n",
       "27                                            NaN  \n",
       "28                                            NaN  \n",
       "29                                            NaN  "
      ]
     },
     "execution_count": 99,
     "metadata": {},
     "output_type": "execute_result"
    }
   ],
   "source": [
    "data = data.drop('Unnamed: 2',axis=1)\n",
    "data.head(30)\n"
   ]
  },
  {
   "cell_type": "code",
   "execution_count": 100,
   "id": "b555a562",
   "metadata": {},
   "outputs": [
    {
     "data": {
      "text/plain": [
       "('https://www.mobilia.com.au/residential/brands',\n",
       " ['Astep',\n",
       "  'Atelier Areti',\n",
       "  'BD Barcelona',\n",
       "  'Cassina',\n",
       "  'CC-tapis',\n",
       "  'Glas Italia',\n",
       "  'Golran',\n",
       "  'Kettal',\n",
       "  'Marset',\n",
       "  'Michael Anastassiades',\n",
       "  'Moroso',\n",
       "  'Nomon Clocks & Home',\n",
       "  'Poltrona Frau',\n",
       "  'Punt',\n",
       "  'Triconfort',\n",
       "  'Vondom'])"
      ]
     },
     "execution_count": 100,
     "metadata": {},
     "output_type": "execute_result"
    }
   ],
   "source": [
    "def get_website_data(index):\n",
    "    data_list = data[f'WEBSITE {str(index)}'].dropna().reset_index(drop=True).to_list()\n",
    "    url = data_list[1]\n",
    "    brands = data_list[2:]\n",
    "    \n",
    "    return url, brands\n",
    "\n",
    "get_website_data(6)"
   ]
  },
  {
   "cell_type": "code",
   "execution_count": 101,
   "id": "897c0a4f",
   "metadata": {},
   "outputs": [],
   "source": [
    "#browser.get(get_website_data(6)[0])"
   ]
  },
  {
   "cell_type": "code",
   "execution_count": 102,
   "id": "016cb6cd",
   "metadata": {
    "scrolled": true
   },
   "outputs": [],
   "source": [
    "website1_url = get_website_data(1)[0]\n",
    "website1_brands = get_website_data(1)[1]\n",
    "#print(website1_url)\n",
    "#print(website1_brands)"
   ]
  },
  {
   "cell_type": "code",
   "execution_count": 103,
   "id": "47f76c4c",
   "metadata": {},
   "outputs": [],
   "source": [
    "browser.get(website1_url)"
   ]
  },
  {
   "cell_type": "code",
   "execution_count": 70,
   "id": "b11fb1f8",
   "metadata": {
    "id": "b11fb1f8"
   },
   "outputs": [],
   "source": [
    "#browser.find_element(By.CSS_SELECTOR,'label[data-placeholder=\"Search...\"]').click()"
   ]
  },
  {
   "cell_type": "code",
   "execution_count": 104,
   "id": "023b04d3",
   "metadata": {
    "id": "4155bfcf"
   },
   "outputs": [],
   "source": [
    "#search_box = browser.find_element(By.ID,'search')\n",
    "#search_box.clear()\n",
    "#time.sleep(random.randint(2,4))\n",
    "#search_box.send_keys(website1_brands[0])\n",
    "#search_box.send_keys(Keys.ENTER)"
   ]
  },
  {
   "cell_type": "code",
   "execution_count": 109,
   "id": "cdb29dcf",
   "metadata": {},
   "outputs": [],
   "source": [
    "brand_name_and_links = []\n",
    "for brand in website1_brands[:5]:\n",
    "    browser.find_element(By.CSS_SELECTOR,'label[data-placeholder=\"Search...\"]').click()\n",
    "    time.sleep(random.randint(3,6))\n",
    "    \n",
    "    search_box = browser.find_element(By.ID,'search')\n",
    "    for i in range(50):\n",
    "        search_box.send_keys(Keys.DELETE)\n",
    "    time.sleep(random.randint(2,5))\n",
    "    search_box.send_keys(brand)\n",
    "    search_box.send_keys(Keys.ENTER)\n",
    "    full_links = []\n",
    "    while True:\n",
    "        time.sleep(random.randint(3,5))\n",
    "        product_links = browser.find_elements(By.CSS_SELECTOR,'a[class=\"result\"]')\n",
    "        links = []\n",
    "        for item in product_links:\n",
    "            link = item.get_attribute('href')\n",
    "            links.append(link)\n",
    "        full_links.extend(links)\n",
    "        \n",
    "        try:\n",
    "            browser.find_element(By.CSS_SELECTOR,'li[class=\"ais-Pagination-item ais-Pagination-item--nextPage\"]').click()\n",
    "        except NoSuchElementException:\n",
    "            break\n",
    "        time.sleep(random.randint(2,4))\n",
    "    \n",
    "    brand_name_and_links.append((brand,full_links))\n",
    "            \n",
    "    "
   ]
  },
  {
   "cell_type": "code",
   "execution_count": 116,
   "id": "bacc79cb",
   "metadata": {},
   "outputs": [
    {
     "data": {
      "text/plain": [
       "166"
      ]
     },
     "execution_count": 116,
     "metadata": {},
     "output_type": "execute_result"
    }
   ],
   "source": [
    "len(brand_name_and_links[1][1])"
   ]
  },
  {
   "cell_type": "code",
   "execution_count": 90,
   "id": "5e342a97",
   "metadata": {},
   "outputs": [
    {
     "data": {
      "text/plain": [
       "'https://shop.mohd.it/en/axis-square-table.html?queryID=65fe650e777e15b3c0bfe72911e427f6&objectID=116138&indexName=mohd_prod_row_en_products'"
      ]
     },
     "execution_count": 90,
     "metadata": {},
     "output_type": "execute_result"
    }
   ],
   "source": [
    "brand_name_and_links[0][1][0]"
   ]
  },
  {
   "cell_type": "code",
   "execution_count": 117,
   "id": "a09606d7",
   "metadata": {
    "id": "a09606d7",
    "outputId": "f7d97fdc-9fa1-473c-bdfb-ca8a72ab34a4"
   },
   "outputs": [],
   "source": [
    "browser.get(brand_name_and_links[0][1][0])"
   ]
  },
  {
   "cell_type": "code",
   "execution_count": 118,
   "id": "b57e5052",
   "metadata": {
    "id": "b57e5052"
   },
   "outputs": [],
   "source": [
    "if not os.path.exists('Website 1'):\n",
    "    os.makedirs('Website 1')"
   ]
  },
  {
   "cell_type": "code",
   "execution_count": 119,
   "id": "03bfb387",
   "metadata": {
    "id": "03bfb387",
    "outputId": "756b8e3e-dc51-4b09-c80d-c89c65178ba8"
   },
   "outputs": [
    {
     "data": {
      "text/plain": [
       "'C:\\\\Users\\\\User\\\\Desktop\\\\portfolio_projects\\\\upwork_sample_project'"
      ]
     },
     "execution_count": 119,
     "metadata": {},
     "output_type": "execute_result"
    }
   ],
   "source": [
    "parent_path = os.getcwd()\n",
    "parent_path\n"
   ]
  },
  {
   "cell_type": "code",
   "execution_count": 121,
   "id": "eb9b8d42",
   "metadata": {
    "id": "eb9b8d42",
    "outputId": "9413043e-8d11-497e-c186-15162e1d5c63"
   },
   "outputs": [
    {
     "data": {
      "text/plain": [
       "'Axis - Square Table'"
      ]
     },
     "execution_count": 121,
     "metadata": {},
     "output_type": "execute_result"
    }
   ],
   "source": [
    "def get_product_title():\n",
    "    product_title = browser.find_element(By.CSS_SELECTOR,'span[class=\"title-product\"]').text\n",
    "\n",
    "    return product_title\n",
    "\n",
    "get_product_title()"
   ]
  },
  {
   "cell_type": "code",
   "execution_count": 122,
   "id": "f8917003",
   "metadata": {
    "id": "f8917003",
    "outputId": "940123ba-f7ba-40ed-f56a-d424e3ccd664"
   },
   "outputs": [
    {
     "data": {
      "text/plain": [
       "'Acerbis'"
      ]
     },
     "execution_count": 122,
     "metadata": {},
     "output_type": "execute_result"
    }
   ],
   "source": [
    "def get_brand_name():\n",
    "\n",
    "\n",
    "    brand_name = browser.find_element(By.CSS_SELECTOR,'div[class=\"product-info-brand-name\"]').find_element(By.TAG_NAME,'a').text\n",
    "    return brand_name\n",
    "\n",
    "get_brand_name()"
   ]
  },
  {
   "cell_type": "code",
   "execution_count": 123,
   "id": "44113efb",
   "metadata": {
    "id": "44113efb",
    "outputId": "a6de5def-3ce8-48e9-8e16-595cbc364901"
   },
   "outputs": [
    {
     "data": {
      "text/plain": [
       "'Axis by Acerbis is the table with a very thin top supported by four plates arranged on staggered axes. Gabriele e Oscar Buratti draws an architecture full of reflections as the position from which it is viewed changes.\\n\\nAxis is made of composite material veneered in precious woods or back-lacquered glass. The plates supporting the top are covered with mirror-polished stainless steel. The top is made particularly airy by the unusual position of the legs, which make it visually light and guarantee comfortable seating as well as stability.'"
      ]
     },
     "execution_count": 123,
     "metadata": {},
     "output_type": "execute_result"
    }
   ],
   "source": [
    "def get_product_info():\n",
    "    #div[class=\"product-description\"]\n",
    "    info = browser.find_element(By.CSS_SELECTOR,'div[class=\"product-description\"]').text\n",
    "\n",
    "    return info\n",
    "\n",
    "\n",
    "get_product_info()"
   ]
  },
  {
   "cell_type": "code",
   "execution_count": 134,
   "id": "c813de98",
   "metadata": {
    "id": "c813de98",
    "outputId": "f07b2ce6-1cad-4d8d-feef-c7762f3d0f85"
   },
   "outputs": [],
   "source": [
    "#options = browser.find_elements(By.CSS_SELECTOR,'div[data-class=\"emiproopthover\"]')\n",
    "#options[1].click()\n",
    "#options[1].find_element(By.CSS_SELECTOR,'div[class=\"custom-option-tooltip-title\"]').text"
   ]
  },
  {
   "cell_type": "code",
   "execution_count": 131,
   "id": "d7652e92",
   "metadata": {
    "id": "d7652e92",
    "outputId": "a03decc3-37e1-4544-a2b4-9b8201ecca8b"
   },
   "outputs": [
    {
     "data": {
      "text/plain": [
       "'Black|US$ 4,196.05|Available in 4/5 weeks_White|US$ 4,430.61|Available in 4/5 weeks'"
      ]
     },
     "execution_count": 131,
     "metadata": {},
     "output_type": "execute_result"
    }
   ],
   "source": [
    "def get_price_availability_options():\n",
    "    options = browser.find_elements(By.CSS_SELECTOR,'div[data-class=\"emiproopthover\"]')\n",
    "    colors_prices_statuses = []\n",
    "    \n",
    "    for option in options:\n",
    "        option.click()\n",
    "        time.sleep(random.randint(4,6))\n",
    "        color = option.find_element(By.CSS_SELECTOR,'div[class=\"custom-option-tooltip-title\"]').text\n",
    "        price =  option.find_element(By.XPATH,'//span[@class=\"price-wrapper \"]//span').text\n",
    "        status = option.find_element(By.XPATH,'//*[@id=\"product_addtocart_form\"]/div[2]/div[2]/div/div/div/span').text\n",
    "        colors_prices_statuses.append(f\"{color}|{price}|{status}\")\n",
    "\n",
    "    return '_'.join(colors_prices_statuses)\n",
    "\n",
    "\n",
    "\n",
    "get_price_availability_options()"
   ]
  },
  {
   "cell_type": "code",
   "execution_count": null,
   "id": "12c1ce9c",
   "metadata": {
    "id": "12c1ce9c"
   },
   "outputs": [],
   "source": []
  },
  {
   "cell_type": "code",
   "execution_count": 128,
   "id": "7c67adf4",
   "metadata": {
    "id": "7c67adf4"
   },
   "outputs": [],
   "source": [
    "def save_product_image():\n",
    "    product_title = get_product_title()\n",
    "    for i in range(1,20):\n",
    "        try:\n",
    "\n",
    "            time.sleep(random.randint(3,5))\n",
    "\n",
    "            link = browser.find_element(By.XPATH,f'//*[@id=\"maincontent\"]/div[4]/div/div[5]/div[1]/div[2]/div[2]/div[2]/div[1]/div[2]/div[{str(i)}]').get_attribute('href')\n",
    "\n",
    "            browser.get(link)\n",
    "            time.sleep(random.randint(2,4))\n",
    "            browser.save_screenshot(os.path.join(parent_path,'Website 1',product_title +f'{str(i)}.png'))\n",
    "            browser.back()\n",
    "        except:\n",
    "            break\n",
    "\n",
    "\n",
    "save_product_image()"
   ]
  },
  {
   "cell_type": "code",
   "execution_count": 135,
   "id": "a623da21",
   "metadata": {
    "id": "a623da21"
   },
   "outputs": [],
   "source": [
    "product_titles = []\n",
    "product_brands = []\n",
    "product_infos = []\n",
    "color_price_status = []\n",
    "\n",
    "for link in brand_name_and_links[0][1][:20]:\n",
    "\n",
    "    browser.get(link)\n",
    "    time.sleep(random.randint(4,7))\n",
    "    product_titles.append(get_product_title())\n",
    "    product_brands.append(get_brand_name())\n",
    "    product_infos.append(get_product_info())\n",
    "    color_price_status.append(get_price_availability_options())\n",
    "    save_product_image()\n",
    "    time.sleep(random.randint(4,7))\n",
    "\n",
    "\n"
   ]
  },
  {
   "cell_type": "code",
   "execution_count": 137,
   "id": "3c839030",
   "metadata": {
    "collapsed": true,
    "id": "3c839030",
    "outputId": "6ae1d848-0bd0-4b4b-c740-041d5e78d87f"
   },
   "outputs": [
    {
     "data": {
      "text/plain": [
       "['Axis - Square Table',\n",
       " 'Cleo Alu padded Chair',\n",
       " 'Cleo Soft Alu Sofa',\n",
       " 'Cleo Soft Alu Armchair',\n",
       " 'Domino Director Chair',\n",
       " 'Axis - Rectangular Table',\n",
       " 'Cleo Alu Sunbed',\n",
       " 'Cleo Alu Rocking Chair',\n",
       " 'Cleo Alu Canopy Sofa',\n",
       " 'Domino Round Coffee Table',\n",
       " 'Domino Director Lounge Chair',\n",
       " 'Domino Armchair',\n",
       " 'Skin Extendable Table',\n",
       " 'Steel - Sideboard',\n",
       " 'Judd - Rectangular Tables',\n",
       " 'Cleo Alu Coffee Table',\n",
       " 'Cleo Alu Lounge Armchair',\n",
       " 'Skin Table',\n",
       " 'Superego - Highboard',\n",
       " 'Ghostwriter Suspended Desk']"
      ]
     },
     "execution_count": 137,
     "metadata": {},
     "output_type": "execute_result"
    }
   ],
   "source": [
    "product_titles"
   ]
  },
  {
   "cell_type": "code",
   "execution_count": 146,
   "id": "ea739eb3",
   "metadata": {
    "collapsed": true
   },
   "outputs": [
    {
     "data": {
      "text/plain": [
       "['Acerbis',\n",
       " 'Talenti',\n",
       " 'Talenti',\n",
       " 'Talenti',\n",
       " 'Talenti',\n",
       " 'Acerbis',\n",
       " 'Talenti',\n",
       " 'Talenti',\n",
       " 'Talenti',\n",
       " 'Talenti',\n",
       " 'Talenti',\n",
       " 'Talenti',\n",
       " 'Desalto',\n",
       " 'Acerbis',\n",
       " 'Acerbis',\n",
       " 'Talenti',\n",
       " 'Talenti',\n",
       " 'Desalto',\n",
       " 'Acerbis',\n",
       " 'Acerbis']"
      ]
     },
     "execution_count": 146,
     "metadata": {},
     "output_type": "execute_result"
    }
   ],
   "source": [
    "product_brands"
   ]
  },
  {
   "cell_type": "code",
   "execution_count": 147,
   "id": "41f2f421",
   "metadata": {
    "collapsed": true,
    "id": "41f2f421",
    "outputId": "763c6e72-4490-4636-bbfd-d604bf1ccfe3"
   },
   "outputs": [
    {
     "data": {
      "text/plain": [
       "['Axis by Acerbis is the table with a very thin top supported by four plates arranged on staggered axes. Gabriele e Oscar Buratti draws an architecture full of reflections as the position from which it is viewed changes.\\n\\nAxis is made of composite material veneered in precious woods or back-lacquered glass. The plates supporting the top are covered with mirror-polished stainless steel. The top is made particularly airy by the unusual position of the legs, which make it visually light and guarantee comfortable seating as well as stability.',\n",
       " 'Cleo Alu is an outdoor collection designed by marco Acerbis. Here we present the padded tub chair, with a powder coated aluminum frame in white, graphite or dove colour, with different types of shell fabric: grey, green, blue, red, dark grey.\\nCleo Alu is a modern a glamourous outdoor collection that stands out for the stylish and informal mood. The slender and essential frame supports a comfortable and welcoming shell, perfect to complete the table of the same collection, to give an elegant touch of design to your outdoor area.',\n",
       " 'Cleo Soft Alu is an outdoor collection designed by Marco Acerbis. Here we present the sofa, with a powder-coated aluminum frame in white or graphite color and different types of sofa fabric: silver for the white frame and dark grey for the graphite frame. Cushions with removable cover, easy to wash, and weather resistant. Quick-dry foam padding.\\nCleo Soft Alu is a modern a glamourous outdoor collection that stands out for the stylish and informal mood. The slender and essential frame supports a comfortable and welcoming seat, perfect to accommodate the poolside chatter or moments of relax in the company of a good book.',\n",
       " 'Cleo Soft Alu is an outdoor collection designed by Marco Acerbis. Here we present the living armchair, with a powder-coated aluminum frame in white or graphite color and different types of sofa fabric: silver for the white frame and dark grey for the graphite frame. Cushions with removable cover, easy to wash, and weather resistant. Quick-dry foam padding.\\nCleo Soft Alu is a modern a glamourous outdoor collection that stands out for the stylish and informal mood. The slender and essential frame supports a comfortable and welcoming sitting, perfect to accommodate the poolside chatter or moments of relax in the company of a good book.',\n",
       " 'The Domino director chair is part of the new outdoor collection designed by Marco Acerbis for Talenti. It has a powder coating aluminium frame available in two different colours: White, graphite. Two types of fabrics are available: beige mélange for the white frame; grey for the graphite frame. Cushions with removable covers, easy to wash and weather resistant. Quick dry foam padding.\\nWith Domino, Marco Acerbis continues to mix up the new trends of the design. By expertly alternating fabrics and shapes the creative italian designer underlines, one more time, how fine is the border between indoor and outdoor. Elegance and beauty. Freshness and grace. Domino is the real consecration of craftsmanship that becomes art with an unparalleled care of the details. It is clear not only by considering the particular use of wood but also the approach with aluminum and fabrics that are all in harmony with a completely different product if we compare it with the classic disposable outdoor.',\n",
       " 'Axis by Acerbis is the table with a very thin top supported by four plates arranged on staggered axes. Gabriele e Oscar Buratti draws an architecture full of reflections as the position from which it is viewed changes.\\n\\nAxis is made of composite material veneered in precious woods or back-lacquered glass. The plates that support the top are covered in mirror-polished stainless steel or brushed burnished. The top is made particularly airy by the unusual position of the legs, which make it visually light and guarantee comfortable seating as well as stability.',\n",
       " 'Cleo Alu is an outdoor collection designed by Marco Acerbis. Here we present the sunbed, with a powder coated aluminum frame in white, graphite or dove colour, with three types of sofa fabric: grey for the white frame, dark grey for the graphite frame and white for the dove frame. Cushions with removable cover, easy to wash and weather resistant. Quick dry foam padding.\\nCleo Alu is a modern a glamourous outdoor collection that stands out for the stylish and informal mood. The slender and essential frame supports a comfortable and welcoming sitting, perfect to accommodate the poolside chatter or moments of relax in the company of a good book.',\n",
       " 'Cleo Alu is an outdoor collection designed by marco Acerbis. Here we present the rocking chair, with a powder coated aluminum frame in white, graphite or dove colour, with different types of shell fabric: grey, green, blue, red, dark grey, or white.\\nCleo Alu is a modern a glamourous outdoor collection that stands out for the stylish and informal mood. The slender and essential frame supports a comfortable and welcoming shell, for a luxurious and contemporary interpretation of the rocking chair, which rediscovers a new environment: the outdoor.',\n",
       " 'Cleo Alu is an outdoor collection designed by marco Acerbis. Here we present the canopy sofa, with roman blinds curtain and a powder coated aluminum frame with a powder coated aluminum frame in white, graphite or dove colour and  different types of sofa fabric: grey for the white frame,  dark grey for the graphite frame and white for the dove frame. Cushions with removable cover, easy to wash and weather resistant. Quick dry foam padding.\\nCleo Alu is a modern a glamourous outdoor collection that stands out for the stylish and informal mood. The slender and essential frame supports a comfortable and welcoming sitting, perfect to accommodate the poolside chatter or moments of relax in the company of a good book.',\n",
       " 'The Domino round cofee table is part of the new outdoor collection designed by Marco Acerbis for Talenti. It has a powder coating aluminium frame available in two different colours: White, graphite. Two types of marbles are available: Santafiora marble for the white frame; grey for the graphite frame.\\nWith Domino, Marco Acerbis continues to mix up the new trends of the design. By expertly alternating fabrics and shapes the creative italian designer underlines, one more time, how fine is the border between indoor and outdoor. Elegance and beauty. Freshness and grace. Domino is the real consecration of craftsmanship that becomes art with an unparalleled care of the details. It is clear not only by considering the particular use of wood but also the approach with aluminum and fabrics that are all in harmony with a completely different product if we compare it with the classic disposable outdoor. The coffee table is the cherry on the top with a brazier that can make every ambience romantic.',\n",
       " 'The Domino director lounge chair is part of the new outdoor collection designed by Marco Acerbis for Talenti. It has a powder coating aluminium frame available in two different colours: White, graphite. Two types of fabrics are available: beige mélange for the white frame; grey for the graphite frame. Cushions with removable covers, easy to wash and weather resistant. Quick dry foam padding.\\nWith Domino, Marco Acerbis continues to mix up the new trends of the design. By expertly alternating fabrics and shapes the creative italian designer underlines, one more time, how fine is the border between indoor and outdoor. Elegance and beauty. Freshness and grace. Domino is the real consecration of craftsmanship that becomes art with an unparalleled care of the details. It is clear not only by considering the particular use of wood but also the approach with aluminum and fabrics that are all in harmony with a completely different product if we compare it with the classic disposable outdoor.',\n",
       " 'The Domino armchair is part of the new outdoor collection designed by Marco Acerbis for Talenti. It has a powder coating aluminium frame available in two different colours: White, graphite. Two types of fabrics are available: beige mélange for the white frame; grey for the graphite frame. Cushions with removable covers, easy to wash and weather resistant. Quick dry foam padding.\\nWith Domino, Marco Acerbis continues to mix up the new trends of the design. By expertly alternating fabrics and shapes the creative italian designer underlines, one more time, how fine is the border between indoor and outdoor. Elegance and beauty. Freshness and grace. Domino is the real consecration of craftsmanship that becomes art with an unparalleled care of the details. It is clear not only by considering the particular use of wood but also the approach with aluminum and fabrics that are all in harmony with a completely different product if we compare it with the classic disposable outdoor.\\nDetails:\\nDeco cushion not included.',\n",
       " 'Skin is a table designed by Marco Acerbis for Desalto, made of aluminum base, the top is in crystal or ceramic mm6.\\nSkin is Fix or extendible table with frame in extruded aluminium. Tops in toughened glass 8 mm; the extendable version extensions are folding system with the same material and finish as the top; 200x200 square table has the top made up of 4 panels. Skin finds wide applications, both in the home and in the office, such as conference table, but also in public places such as restaurants; always expressing the most of its quality. Skin is available in various sizes and in different finishes both the base and the top.',\n",
       " 'Steel by Acerbis: A sideboard with a refined mark designed by Gabriele Buratti and Lodovico Acerbis to furnish the living room with personality. Cabinet with mirror-polished stainless steel sides. Back-lighting system and cable routing. Matt white interior finish.\\n\\nThe sideboard Steel, with flap doors, reveals its lines of great personality in the material contrasts and in the bridge layout.Two sides in mirror polished steel, thin and with a precious appearance, support the structure with a particular depth, further enriched by the lighting system, located in the rear technical band. The system allows light to be emitted simultaneously from the top, bottom and inside. The cabinet is equipped with flap doors with the possibility of internal accessories such as shelves and drawers. The thick back panel is finished in the same finish as the front and makes the sideboard ideal for use in the centre of the room.',\n",
       " 'Acerbis presents Judd, a family of monolithic tables designed by Gabriele Buratti to decor the living area. The base is made of a structural panel composed of bent steel sheet and covered in polished stainless steel. The top is in Crystal Glass float thickness 15mm transparent, with a central sandblasted part.\\n\\nThe extremely light and essential volumes of the Judd table system accommodate a variety of different and surprising materials. The external finishing of the structural panel, which characterizes the table base, is made of mirror-polished stainless steel and gives an innovative and subtle appearance. The internal coating can accommodate a variety of materials: mirrored glass, black glass, precious veneer or K-Stone® marbles, each of which enriches it with always different and precious effects. The transparent surfaces from the central sandblasted panel are 15 mm thick.',\n",
       " 'The Cleo Alu round cofee table is part of the new outdoor collection designed by Marco Acerbis for Talenti. It has a powder coating aluminium frame available in three different colours: white, graphite or dove. The 12 cement fiber top is light grey for the white frame, dark grey for the graphite frame. While the top in teak is only available for the dove version.\\nWith this collection, Marco Acerbis continues to mix up the new trends of the design. By expertly alternating fabrics and shapes the creative italian designer underlines, one more time, how fine is the border between indoor and outdoor. Elegance and beauty. Freshness and grace. Cleo Alu is the new interpretation of outdoor furniture.',\n",
       " 'Cleo Alu is an outdoor collection designed by marco Acerbis. Here we present the lounge armchair, with a powder coated aluminum frame in white, graphite or dove colour, with different types of shell fabric: grey, green, blue, red, dark grey, or white.\\nCleo Alu is a modern a glamourous outdoor collection that stands out for the stylish and informal mood. The slender and essential frame supports a comfortable and welcoming shell, for a luxurious and contemporary interpretation of the lounge chair, which rediscovers a new environment: the outdoor.',\n",
       " 'Skin is a table designed by Marco Acerbis for Desalto, made of aluminum base, the top is in crystal, in ceramic or wood.\\nSkin is Fix or extendible table with frame in extruded aluminium. Tops in toughened glass 8 mm, or in ceramic 6 mm; the extendable version extensions are folding system with the same material and finish as the top; 200x200 square table has the top made up of 4 panels. Skin finds wide applications, both in the home and in the office, such as conference table, but also in public places such as restaurants; always expressing the most of its quality. Skin is available in various sizes and in different finishes both the base and the top.',\n",
       " \"The sideboard Superego represents the full expression of technological research Acerbis designed by Marco Acerbis. The finishes of the doors and top can be glossy lacquered in 14 colours, while the side shells moulded in structural polyurethane are glossy lacquered or covered in mirror-polished steel. The matt white interior has a matt slate grey central block and stainless steel profiles.\\n\\nSuperego is the tall sideboard with sinuous shapes that appears as a soft, aerial monolith. Its perfectly calibrated, rounded body and the opening system of overlapping doors are enclosed by two 'shell' sides that emphasise its quality structure. A unique swing-arm opening with braked movement system makes it possible to overlap the doors for maximum usability. The interior lighting system is activated automatically when the door is opened and is concealed in the sides. In the centre version the back of the cabinet is perfectly finished like the front for perfect centre-stage use. Specify plug for each country EU, CH, GB, USA.\",\n",
       " \"Ghostwriter is the suspended desk designed by Giacomo Moor for the Acerbis brand. Essential and functional in perfect contemporary style.\\n\\nGhostwriter's suspended desk was created by the exterior designer Giacomo Moor, who designs an object to open and discover, to be surprised by the multifunctionality of his interior. The desk is made of lacquered wood, with Eucalyptus interior in contrasting material with the outside finish. With a single gesture, the Dual-Flap® opening system opens the large front door, transforming it into a practical desk top, and simultaneously a top of the top rises to facilitate access to the inside compartment of the cabinet, organized with cardboard and cardboard scanners pens. Complete the layout of power supply sockets (2 USB and 2 Shuko) concealed in the bottom of the inner compartment and a perfectly integrated infrared light control panel in the top thickness, which, when opened, is the correct one Angle to illuminate the work space.\"]"
      ]
     },
     "execution_count": 147,
     "metadata": {},
     "output_type": "execute_result"
    }
   ],
   "source": [
    "product_infos"
   ]
  },
  {
   "cell_type": "code",
   "execution_count": 148,
   "id": "3849c3a9",
   "metadata": {
    "collapsed": true
   },
   "outputs": [
    {
     "data": {
      "text/plain": [
       "['Black|US$ 4,196.05|Available in 4/5 weeks_White|US$ 4,430.61|Available in 4/5 weeks',\n",
       " 'White/Grey|US$ 661.12|Available in 3/4 weeks_White/Green|US$ 661.12|Available in 3/4 weeks_White/Blue|US$ 661.12|Available in 3/4 weeks_White/Red|US$ 661.12|Available in 3/4 weeks_Graphite/Dark Grey|US$ 661.12|Available in 3/4 weeks',\n",
       " 'A12 White / C96 W Silver|US$ 3,510.43|Available in 3/4 weeks_A14 Graphite / C95 Dark Grey|US$ 3,510.43|Available in 3/4 weeks',\n",
       " 'A12 White / C96 W Silver|US$ 1,950.02|Available in 3/4 weeks_A14 Graphite / C95 Dark Grey|US$ 1,950.02|Available in 3/4 weeks',\n",
       " 'White/Beige Melange|US$ 1,021.21|Available in 3/4 weeks_Graphite/Grey|US$ 1,021.21|Available in 3/4 weeks',\n",
       " '',\n",
       " 'White/Grey|US$ 1,513.72|Available in 3/4 weeks_Graphite/Dark Grey|US$ 1,513.72|Available in 3/4 weeks',\n",
       " 'White/Grey|US$ 1,572.79|Available in 3/4 weeks_White/Green|US$ 1,572.79|Available in 3/4 weeks_White/Blue|US$ 1,572.79|Available in 3/4 weeks_White/Red|US$ 1,572.79|Available in 3/4 weeks_|US$ 1,572.79|Available in 3/4 weeks',\n",
       " 'White/Grey|US$ 4,725.98|Available in 3/4 weeks_Dove/White|US$ 4,725.98|Available in 3/4 weeks_Graphite/Dark Grey|US$ 4,725.98|Available in 3/4 weeks',\n",
       " 'White/Santafiora Marble|US$ 2,280.59|Available in 3/4 weeks_Graphite/Basaltina|US$ 2,280.59|Available in 3/4 weeks',\n",
       " 'White/Beige Melange|US$ 1,417.51|Available in 3/4 weeks_Graphite/Grey|US$ 1,417.51|Available in 3/4 weeks',\n",
       " '|US$ 2,839.78|Available in 3/4 weeks_Graphite/Grey|US$ 2,839.78|Available in 3/4 weeks',\n",
       " '',\n",
       " '',\n",
       " '',\n",
       " '',\n",
       " 'White/Grey|US$ 1,508.96|Available in 3/4 weeks_White/Green|US$ 1,508.96|Available in 3/4 weeks_White/Blue|US$ 1,508.96|Available in 3/4 weeks_White/Red|US$ 1,508.96|Available in 3/4 weeks_Graphite/Dark Grey|US$ 1,508.96|Available in 3/4 weeks',\n",
       " '',\n",
       " '',\n",
       " '']"
      ]
     },
     "execution_count": 148,
     "metadata": {},
     "output_type": "execute_result"
    }
   ],
   "source": [
    "color_price_status"
   ]
  },
  {
   "cell_type": "code",
   "execution_count": 142,
   "id": "b0bf674b",
   "metadata": {
    "id": "b0bf674b",
    "outputId": "952f53a2-3db2-402d-e4c2-818617abe4c8",
    "scrolled": false
   },
   "outputs": [
    {
     "data": {
      "text/html": [
       "<div>\n",
       "<style scoped>\n",
       "    .dataframe tbody tr th:only-of-type {\n",
       "        vertical-align: middle;\n",
       "    }\n",
       "\n",
       "    .dataframe tbody tr th {\n",
       "        vertical-align: top;\n",
       "    }\n",
       "\n",
       "    .dataframe thead th {\n",
       "        text-align: right;\n",
       "    }\n",
       "</style>\n",
       "<table border=\"1\" class=\"dataframe\">\n",
       "  <thead>\n",
       "    <tr style=\"text-align: right;\">\n",
       "      <th></th>\n",
       "      <th>Title</th>\n",
       "      <th>Brands</th>\n",
       "      <th>Product Info</th>\n",
       "      <th>color_price_status</th>\n",
       "      <th>Product Links</th>\n",
       "    </tr>\n",
       "  </thead>\n",
       "  <tbody>\n",
       "    <tr>\n",
       "      <th>0</th>\n",
       "      <td>Axis - Square Table</td>\n",
       "      <td>Acerbis</td>\n",
       "      <td>Axis by Acerbis is the table with a very thin ...</td>\n",
       "      <td>Black|US$ 4,196.05|Available in 4/5 weeks_Whit...</td>\n",
       "      <td>https://shop.mohd.it/en/axis-square-table.html...</td>\n",
       "    </tr>\n",
       "    <tr>\n",
       "      <th>1</th>\n",
       "      <td>Cleo Alu padded Chair</td>\n",
       "      <td>Talenti</td>\n",
       "      <td>Cleo Alu is an outdoor collection designed by ...</td>\n",
       "      <td>White/Grey|US$ 661.12|Available in 3/4 weeks_W...</td>\n",
       "      <td>https://shop.mohd.it/en/cleo-alu-padded-chair....</td>\n",
       "    </tr>\n",
       "    <tr>\n",
       "      <th>2</th>\n",
       "      <td>Cleo Soft Alu Sofa</td>\n",
       "      <td>Talenti</td>\n",
       "      <td>Cleo Soft Alu is an outdoor collection designe...</td>\n",
       "      <td>A12 White / C96 W Silver|US$ 3,510.43|Availabl...</td>\n",
       "      <td>https://shop.mohd.it/en/cleo-alu-sofa.html?que...</td>\n",
       "    </tr>\n",
       "    <tr>\n",
       "      <th>3</th>\n",
       "      <td>Cleo Soft Alu Armchair</td>\n",
       "      <td>Talenti</td>\n",
       "      <td>Cleo Soft Alu is an outdoor collection designe...</td>\n",
       "      <td>A12 White / C96 W Silver|US$ 1,950.02|Availabl...</td>\n",
       "      <td>https://shop.mohd.it/en/cleo-soft-alu-armchair...</td>\n",
       "    </tr>\n",
       "    <tr>\n",
       "      <th>4</th>\n",
       "      <td>Domino Director Chair</td>\n",
       "      <td>Talenti</td>\n",
       "      <td>The Domino director chair is part of the new o...</td>\n",
       "      <td>White/Beige Melange|US$ 1,021.21|Available in ...</td>\n",
       "      <td>https://shop.mohd.it/en/domino-director-chair....</td>\n",
       "    </tr>\n",
       "    <tr>\n",
       "      <th>5</th>\n",
       "      <td>Axis - Rectangular Table</td>\n",
       "      <td>Acerbis</td>\n",
       "      <td>Axis by Acerbis is the table with a very thin ...</td>\n",
       "      <td></td>\n",
       "      <td>https://shop.mohd.it/en/axis-rectangular-table...</td>\n",
       "    </tr>\n",
       "    <tr>\n",
       "      <th>6</th>\n",
       "      <td>Cleo Alu Sunbed</td>\n",
       "      <td>Talenti</td>\n",
       "      <td>Cleo Alu is an outdoor collection designed by ...</td>\n",
       "      <td>White/Grey|US$ 1,513.72|Available in 3/4 weeks...</td>\n",
       "      <td>https://shop.mohd.it/en/cleo-alu-sunbed.html?q...</td>\n",
       "    </tr>\n",
       "    <tr>\n",
       "      <th>7</th>\n",
       "      <td>Cleo Alu Rocking Chair</td>\n",
       "      <td>Talenti</td>\n",
       "      <td>Cleo Alu is an outdoor collection designed by ...</td>\n",
       "      <td>White/Grey|US$ 1,572.79|Available in 3/4 weeks...</td>\n",
       "      <td>https://shop.mohd.it/en/cleo-alu-rocking-chair...</td>\n",
       "    </tr>\n",
       "    <tr>\n",
       "      <th>8</th>\n",
       "      <td>Cleo Alu Canopy Sofa</td>\n",
       "      <td>Talenti</td>\n",
       "      <td>Cleo Alu is an outdoor collection designed by ...</td>\n",
       "      <td>White/Grey|US$ 4,725.98|Available in 3/4 weeks...</td>\n",
       "      <td>https://shop.mohd.it/en/cleo-alu-canopy-sofa.h...</td>\n",
       "    </tr>\n",
       "    <tr>\n",
       "      <th>9</th>\n",
       "      <td>Domino Round Coffee Table</td>\n",
       "      <td>Talenti</td>\n",
       "      <td>The Domino round cofee table is part of the ne...</td>\n",
       "      <td>White/Santafiora Marble|US$ 2,280.59|Available...</td>\n",
       "      <td>https://shop.mohd.it/en/domino-round-coffee-ta...</td>\n",
       "    </tr>\n",
       "    <tr>\n",
       "      <th>10</th>\n",
       "      <td>Domino Director Lounge Chair</td>\n",
       "      <td>Talenti</td>\n",
       "      <td>The Domino director lounge chair is part of th...</td>\n",
       "      <td>White/Beige Melange|US$ 1,417.51|Available in ...</td>\n",
       "      <td>https://shop.mohd.it/en/domino-director-lounge...</td>\n",
       "    </tr>\n",
       "    <tr>\n",
       "      <th>11</th>\n",
       "      <td>Domino Armchair</td>\n",
       "      <td>Talenti</td>\n",
       "      <td>The Domino armchair is part of the new outdoor...</td>\n",
       "      <td>|US$ 2,839.78|Available in 3/4 weeks_Graphite/...</td>\n",
       "      <td>https://shop.mohd.it/en/domino-armchair.html?q...</td>\n",
       "    </tr>\n",
       "    <tr>\n",
       "      <th>12</th>\n",
       "      <td>Skin Extendable Table</td>\n",
       "      <td>Desalto</td>\n",
       "      <td>Skin is a table designed by Marco Acerbis for ...</td>\n",
       "      <td></td>\n",
       "      <td>https://shop.mohd.it/en/skin-extending-table-d...</td>\n",
       "    </tr>\n",
       "    <tr>\n",
       "      <th>13</th>\n",
       "      <td>Steel - Sideboard</td>\n",
       "      <td>Acerbis</td>\n",
       "      <td>Steel by Acerbis: A sideboard with a refined m...</td>\n",
       "      <td></td>\n",
       "      <td>https://shop.mohd.it/en/steel-sideboard.html?q...</td>\n",
       "    </tr>\n",
       "    <tr>\n",
       "      <th>14</th>\n",
       "      <td>Judd - Rectangular Tables</td>\n",
       "      <td>Acerbis</td>\n",
       "      <td>Acerbis presents Judd, a family of monolithic ...</td>\n",
       "      <td></td>\n",
       "      <td>https://shop.mohd.it/en/judd-rectangular-table...</td>\n",
       "    </tr>\n",
       "    <tr>\n",
       "      <th>15</th>\n",
       "      <td>Cleo Alu Coffee Table</td>\n",
       "      <td>Talenti</td>\n",
       "      <td>The Cleo Alu round cofee table is part of the ...</td>\n",
       "      <td></td>\n",
       "      <td>https://shop.mohd.it/en/cleo-alu-coffee-table....</td>\n",
       "    </tr>\n",
       "    <tr>\n",
       "      <th>16</th>\n",
       "      <td>Cleo Alu Lounge Armchair</td>\n",
       "      <td>Talenti</td>\n",
       "      <td>Cleo Alu is an outdoor collection designed by ...</td>\n",
       "      <td>White/Grey|US$ 1,508.96|Available in 3/4 weeks...</td>\n",
       "      <td>https://shop.mohd.it/en/cleo-alu-lounge-armcha...</td>\n",
       "    </tr>\n",
       "    <tr>\n",
       "      <th>17</th>\n",
       "      <td>Skin Table</td>\n",
       "      <td>Desalto</td>\n",
       "      <td>Skin is a table designed by Marco Acerbis for ...</td>\n",
       "      <td></td>\n",
       "      <td>https://shop.mohd.it/en/skin-table-desalto.htm...</td>\n",
       "    </tr>\n",
       "    <tr>\n",
       "      <th>18</th>\n",
       "      <td>Superego - Highboard</td>\n",
       "      <td>Acerbis</td>\n",
       "      <td>The sideboard Superego represents the full exp...</td>\n",
       "      <td></td>\n",
       "      <td>https://shop.mohd.it/en/superego-high-sideboar...</td>\n",
       "    </tr>\n",
       "    <tr>\n",
       "      <th>19</th>\n",
       "      <td>Ghostwriter Suspended Desk</td>\n",
       "      <td>Acerbis</td>\n",
       "      <td>Ghostwriter is the suspended desk designed by ...</td>\n",
       "      <td></td>\n",
       "      <td>https://shop.mohd.it/en/ghostwriter-suspended-...</td>\n",
       "    </tr>\n",
       "  </tbody>\n",
       "</table>\n",
       "</div>"
      ],
      "text/plain": [
       "                           Title   Brands  \\\n",
       "0            Axis - Square Table  Acerbis   \n",
       "1          Cleo Alu padded Chair  Talenti   \n",
       "2             Cleo Soft Alu Sofa  Talenti   \n",
       "3         Cleo Soft Alu Armchair  Talenti   \n",
       "4          Domino Director Chair  Talenti   \n",
       "5       Axis - Rectangular Table  Acerbis   \n",
       "6                Cleo Alu Sunbed  Talenti   \n",
       "7         Cleo Alu Rocking Chair  Talenti   \n",
       "8           Cleo Alu Canopy Sofa  Talenti   \n",
       "9      Domino Round Coffee Table  Talenti   \n",
       "10  Domino Director Lounge Chair  Talenti   \n",
       "11               Domino Armchair  Talenti   \n",
       "12         Skin Extendable Table  Desalto   \n",
       "13             Steel - Sideboard  Acerbis   \n",
       "14     Judd - Rectangular Tables  Acerbis   \n",
       "15         Cleo Alu Coffee Table  Talenti   \n",
       "16      Cleo Alu Lounge Armchair  Talenti   \n",
       "17                    Skin Table  Desalto   \n",
       "18          Superego - Highboard  Acerbis   \n",
       "19    Ghostwriter Suspended Desk  Acerbis   \n",
       "\n",
       "                                         Product Info  \\\n",
       "0   Axis by Acerbis is the table with a very thin ...   \n",
       "1   Cleo Alu is an outdoor collection designed by ...   \n",
       "2   Cleo Soft Alu is an outdoor collection designe...   \n",
       "3   Cleo Soft Alu is an outdoor collection designe...   \n",
       "4   The Domino director chair is part of the new o...   \n",
       "5   Axis by Acerbis is the table with a very thin ...   \n",
       "6   Cleo Alu is an outdoor collection designed by ...   \n",
       "7   Cleo Alu is an outdoor collection designed by ...   \n",
       "8   Cleo Alu is an outdoor collection designed by ...   \n",
       "9   The Domino round cofee table is part of the ne...   \n",
       "10  The Domino director lounge chair is part of th...   \n",
       "11  The Domino armchair is part of the new outdoor...   \n",
       "12  Skin is a table designed by Marco Acerbis for ...   \n",
       "13  Steel by Acerbis: A sideboard with a refined m...   \n",
       "14  Acerbis presents Judd, a family of monolithic ...   \n",
       "15  The Cleo Alu round cofee table is part of the ...   \n",
       "16  Cleo Alu is an outdoor collection designed by ...   \n",
       "17  Skin is a table designed by Marco Acerbis for ...   \n",
       "18  The sideboard Superego represents the full exp...   \n",
       "19  Ghostwriter is the suspended desk designed by ...   \n",
       "\n",
       "                                   color_price_status  \\\n",
       "0   Black|US$ 4,196.05|Available in 4/5 weeks_Whit...   \n",
       "1   White/Grey|US$ 661.12|Available in 3/4 weeks_W...   \n",
       "2   A12 White / C96 W Silver|US$ 3,510.43|Availabl...   \n",
       "3   A12 White / C96 W Silver|US$ 1,950.02|Availabl...   \n",
       "4   White/Beige Melange|US$ 1,021.21|Available in ...   \n",
       "5                                                       \n",
       "6   White/Grey|US$ 1,513.72|Available in 3/4 weeks...   \n",
       "7   White/Grey|US$ 1,572.79|Available in 3/4 weeks...   \n",
       "8   White/Grey|US$ 4,725.98|Available in 3/4 weeks...   \n",
       "9   White/Santafiora Marble|US$ 2,280.59|Available...   \n",
       "10  White/Beige Melange|US$ 1,417.51|Available in ...   \n",
       "11  |US$ 2,839.78|Available in 3/4 weeks_Graphite/...   \n",
       "12                                                      \n",
       "13                                                      \n",
       "14                                                      \n",
       "15                                                      \n",
       "16  White/Grey|US$ 1,508.96|Available in 3/4 weeks...   \n",
       "17                                                      \n",
       "18                                                      \n",
       "19                                                      \n",
       "\n",
       "                                        Product Links  \n",
       "0   https://shop.mohd.it/en/axis-square-table.html...  \n",
       "1   https://shop.mohd.it/en/cleo-alu-padded-chair....  \n",
       "2   https://shop.mohd.it/en/cleo-alu-sofa.html?que...  \n",
       "3   https://shop.mohd.it/en/cleo-soft-alu-armchair...  \n",
       "4   https://shop.mohd.it/en/domino-director-chair....  \n",
       "5   https://shop.mohd.it/en/axis-rectangular-table...  \n",
       "6   https://shop.mohd.it/en/cleo-alu-sunbed.html?q...  \n",
       "7   https://shop.mohd.it/en/cleo-alu-rocking-chair...  \n",
       "8   https://shop.mohd.it/en/cleo-alu-canopy-sofa.h...  \n",
       "9   https://shop.mohd.it/en/domino-round-coffee-ta...  \n",
       "10  https://shop.mohd.it/en/domino-director-lounge...  \n",
       "11  https://shop.mohd.it/en/domino-armchair.html?q...  \n",
       "12  https://shop.mohd.it/en/skin-extending-table-d...  \n",
       "13  https://shop.mohd.it/en/steel-sideboard.html?q...  \n",
       "14  https://shop.mohd.it/en/judd-rectangular-table...  \n",
       "15  https://shop.mohd.it/en/cleo-alu-coffee-table....  \n",
       "16  https://shop.mohd.it/en/cleo-alu-lounge-armcha...  \n",
       "17  https://shop.mohd.it/en/skin-table-desalto.htm...  \n",
       "18  https://shop.mohd.it/en/superego-high-sideboar...  \n",
       "19  https://shop.mohd.it/en/ghostwriter-suspended-...  "
      ]
     },
     "execution_count": 142,
     "metadata": {},
     "output_type": "execute_result"
    }
   ],
   "source": [
    "sample = pd.DataFrame({\"Title\":product_titles,\"Brands\":product_brands,\"Product Info\":product_infos,\"color_price_status\":color_price_status,\"Product Links\":brand_name_and_links[0][1][:20]})\n",
    "sample"
   ]
  },
  {
   "cell_type": "code",
   "execution_count": null,
   "id": "5df63105",
   "metadata": {},
   "outputs": [],
   "source": [
    "#browser.get(sample['Product Links'][12])"
   ]
  },
  {
   "cell_type": "code",
   "execution_count": 165,
   "id": "a04bf0e6",
   "metadata": {
    "id": "a04bf0e6"
   },
   "outputs": [],
   "source": [
    "sample.to_csv('data_scraping_result.csv',index=False)"
   ]
  },
  {
   "cell_type": "code",
   "execution_count": null,
   "id": "728831ec",
   "metadata": {
    "id": "728831ec"
   },
   "outputs": [],
   "source": []
  }
 ],
 "metadata": {
  "colab": {
   "provenance": []
  },
  "kernelspec": {
   "display_name": "Python 3 (ipykernel)",
   "language": "python",
   "name": "python3"
  },
  "language_info": {
   "codemirror_mode": {
    "name": "ipython",
    "version": 3
   },
   "file_extension": ".py",
   "mimetype": "text/x-python",
   "name": "python",
   "nbconvert_exporter": "python",
   "pygments_lexer": "ipython3",
   "version": "3.9.13"
  }
 },
 "nbformat": 4,
 "nbformat_minor": 5
}
